{
  "nbformat": 4,
  "nbformat_minor": 0,
  "metadata": {
    "colab": {
      "provenance": [],
      "gpuType": "V28"
    },
    "kernelspec": {
      "name": "python3",
      "display_name": "Python 3"
    },
    "language_info": {
      "name": "python"
    },
    "accelerator": "TPU"
  },
  "cells": [
    {
      "cell_type": "markdown",
      "source": [
        "## 01. Install and Import Libraries"
      ],
      "metadata": {
        "id": "TqP1GTkpievb"
      }
    },
    {
      "cell_type": "code",
      "source": [
        "# !pip install pandas numpy matplotlib seaborn scikit-learn nltk tensorflow joblib --quiet\n",
        "\n",
        "import pandas as pd\n",
        "import numpy as np\n",
        "import zipfile\n",
        "import re\n",
        "import nltk\n",
        "import string\n",
        "import seaborn as sns\n",
        "import matplotlib.pyplot as plt\n",
        "import os\n",
        "import joblib\n",
        "import tensorflow as tf\n",
        "\n",
        "from sklearn.model_selection import train_test_split\n",
        "from sklearn.preprocessing import LabelEncoder\n",
        "from sklearn.metrics import classification_report, confusion_matrix, accuracy_score, precision_score, recall_score, f1_score\n",
        "from sklearn.feature_extraction.text import TfidfVectorizer\n",
        "from sklearn.utils import class_weight\n",
        "\n",
        "from tensorflow.keras.models import Sequential\n",
        "from tensorflow.keras.layers import Dense, Dropout, BatchNormalization\n",
        "from tensorflow.keras.utils import to_categorical\n",
        "from tensorflow.keras.callbacks import EarlyStopping\n",
        "from tensorflow.keras import regularizers\n",
        "from tensorflow.keras.optimizers import Adam"
      ],
      "metadata": {
        "id": "vDg9nWSSirfA"
      },
      "execution_count": 4,
      "outputs": []
    },
    {
      "cell_type": "markdown",
      "source": [
        "## 02. Download NLTK stopwords"
      ],
      "metadata": {
        "id": "cHHC9Bheipii"
      }
    },
    {
      "cell_type": "code",
      "source": [
        "nltk.download('stopwords')\n",
        "from nltk.corpus import stopwords\n",
        "stop_words = set(stopwords.words('english'))"
      ],
      "metadata": {
        "id": "UfWBzxKyitvQ",
        "colab": {
          "base_uri": "https://localhost:8080/"
        },
        "outputId": "eb364800-f281-4266-a731-e2f55950c37d"
      },
      "execution_count": 5,
      "outputs": [
        {
          "output_type": "stream",
          "name": "stderr",
          "text": [
            "[nltk_data] Downloading package stopwords to /root/nltk_data...\n",
            "[nltk_data]   Unzipping corpora/stopwords.zip.\n"
          ]
        }
      ]
    },
    {
      "cell_type": "markdown",
      "source": [
        "## 03. Extract Dataset"
      ],
      "metadata": {
        "id": "oW8OMebki3aR"
      }
    },
    {
      "cell_type": "code",
      "source": [
        "zip_path = '/content/archive.zip'\n",
        "with zipfile.ZipFile(zip_path, 'r') as zip_ref:\n",
        "    zip_ref.extractall('./data')\n",
        "\n",
        "df = pd.read_csv('./data/cyberbullying_tweets.csv')"
      ],
      "metadata": {
        "id": "Q08_qTKji47P"
      },
      "execution_count": 6,
      "outputs": []
    },
    {
      "cell_type": "markdown",
      "source": [
        "## 04. Clean Text"
      ],
      "metadata": {
        "id": "R6LxENMRi9rT"
      }
    },
    {
      "cell_type": "code",
      "source": [
        "def clean_text(text):\n",
        "    text = text.lower()\n",
        "    text = re.sub(r\"http\\S+|www\\S+|https\\S+\", '', text)\n",
        "    text = re.sub(r'\\@\\w+|\\#','', text)\n",
        "    text = re.sub(r\"[^\\w\\s]\", '', text)\n",
        "    text = re.sub(r\"\\d+\", \"\", text)\n",
        "    text = ' '.join([word for word in text.split() if word not in stop_words])\n",
        "    return text\n",
        "\n",
        "df['clean_text'] = df['tweet_text'].apply(clean_text)"
      ],
      "metadata": {
        "id": "HxNlWA_vjCHA"
      },
      "execution_count": 7,
      "outputs": []
    },
    {
      "cell_type": "markdown",
      "source": [
        "## 05. Encode Labels"
      ],
      "metadata": {
        "id": "reMK3U4ijHT4"
      }
    },
    {
      "cell_type": "code",
      "source": [
        "le = LabelEncoder()\n",
        "df['label'] = le.fit_transform(df['cyberbullying_type'])\n",
        "label_map = dict(zip(le.transform(le.classes_), le.classes_))"
      ],
      "metadata": {
        "id": "V9Uuc2HTjLqA"
      },
      "execution_count": 8,
      "outputs": []
    },
    {
      "cell_type": "markdown",
      "source": [
        "## 06. Vectorize and Split"
      ],
      "metadata": {
        "id": "fYcN-AuzjPQI"
      }
    },
    {
      "cell_type": "code",
      "source": [
        "X = df['clean_text']\n",
        "y = df['label']\n",
        "y_cat = to_categorical(y)\n",
        "\n",
        "vectorizer = TfidfVectorizer(max_features=3000, ngram_range=(1,2), min_df=5)\n",
        "X_vec = vectorizer.fit_transform(X).toarray()\n",
        "\n",
        "X_train, X_test, y_train, y_test = train_test_split(\n",
        "    X_vec, y_cat, test_size=0.2, random_state=42, stratify=y\n",
        ")"
      ],
      "metadata": {
        "id": "0ROdaWqKjXoq"
      },
      "execution_count": 9,
      "outputs": []
    },
    {
      "cell_type": "markdown",
      "source": [
        "## 07. Class Weights for Imbalanced Data"
      ],
      "metadata": {
        "id": "55piM5chjfIz"
      }
    },
    {
      "cell_type": "code",
      "source": [
        "y_train_single = np.argmax(y_train, axis=1)\n",
        "class_weights = class_weight.compute_class_weight(\n",
        "    class_weight='balanced', classes=np.unique(y_train_single), y=y_train_single\n",
        ")\n",
        "class_weights_dict = dict(enumerate(class_weights))"
      ],
      "metadata": {
        "id": "w4o0Y0eOjpyj"
      },
      "execution_count": 10,
      "outputs": []
    },
    {
      "cell_type": "markdown",
      "source": [
        "## 08. Build Model with updated architecture"
      ],
      "metadata": {
        "id": "IZrG34g2juMh"
      }
    },
    {
      "cell_type": "code",
      "source": [
        "model = Sequential([\n",
        "    Dense(128, input_shape=(3000,), activation='relu', kernel_regularizer=regularizers.l2(0.01)),\n",
        "    BatchNormalization(),\n",
        "    Dropout(0.5),\n",
        "    Dense(64, activation='relu', kernel_regularizer=regularizers.l2(0.01)),\n",
        "    BatchNormalization(),\n",
        "    Dropout(0.3),\n",
        "    Dense(y_cat.shape[1], activation='softmax')\n",
        "])\n",
        "\n",
        "optimizer = Adam(learning_rate=1e-4)\n",
        "\n",
        "model.compile(loss='categorical_crossentropy', optimizer=optimizer, metrics=['accuracy'])"
      ],
      "metadata": {
        "id": "2UujKTxijyfJ",
        "colab": {
          "base_uri": "https://localhost:8080/"
        },
        "outputId": "0523d451-1d50-48eb-d026-96da2fa2ddab"
      },
      "execution_count": 11,
      "outputs": [
        {
          "output_type": "stream",
          "name": "stderr",
          "text": [
            "/usr/local/lib/python3.11/dist-packages/keras/src/layers/core/dense.py:87: UserWarning: Do not pass an `input_shape`/`input_dim` argument to a layer. When using Sequential models, prefer using an `Input(shape)` object as the first layer in the model instead.\n",
            "  super().__init__(activity_regularizer=activity_regularizer, **kwargs)\n"
          ]
        }
      ]
    },
    {
      "cell_type": "markdown",
      "source": [
        "## 09. Train Model with updated EarlyStopping and batch size"
      ],
      "metadata": {
        "id": "e9mquzg7j4DZ"
      }
    },
    {
      "cell_type": "code",
      "source": [
        "early_stop = EarlyStopping(monitor='val_loss', patience=5, restore_best_weights=True)\n",
        "history = model.fit(\n",
        "    X_train, y_train,\n",
        "    epochs=30,\n",
        "    batch_size=32,\n",
        "    validation_split=0.2,\n",
        "    class_weight=class_weights_dict,\n",
        "    callbacks=[early_stop]\n",
        ")"
      ],
      "metadata": {
        "id": "thLjXU6Cj9cY",
        "colab": {
          "base_uri": "https://localhost:8080/"
        },
        "outputId": "1b164c7c-9d1f-4d65-aea0-0bce92cae0b5"
      },
      "execution_count": 12,
      "outputs": [
        {
          "output_type": "stream",
          "name": "stdout",
          "text": [
            "Epoch 1/30\n",
            "\u001b[1m954/954\u001b[0m \u001b[32m━━━━━━━━━━━━━━━━━━━━\u001b[0m\u001b[37m\u001b[0m \u001b[1m12s\u001b[0m 8ms/step - accuracy: 0.3424 - loss: 4.5409 - val_accuracy: 0.7526 - val_loss: 2.7435\n",
            "Epoch 2/30\n",
            "\u001b[1m954/954\u001b[0m \u001b[32m━━━━━━━━━━━━━━━━━━━━\u001b[0m\u001b[37m\u001b[0m \u001b[1m3s\u001b[0m 3ms/step - accuracy: 0.6905 - loss: 2.7959 - val_accuracy: 0.7968 - val_loss: 2.1502\n",
            "Epoch 3/30\n",
            "\u001b[1m954/954\u001b[0m \u001b[32m━━━━━━━━━━━━━━━━━━━━\u001b[0m\u001b[37m\u001b[0m \u001b[1m5s\u001b[0m 3ms/step - accuracy: 0.7621 - loss: 2.1488 - val_accuracy: 0.8072 - val_loss: 1.7166\n",
            "Epoch 4/30\n",
            "\u001b[1m954/954\u001b[0m \u001b[32m━━━━━━━━━━━━━━━━━━━━\u001b[0m\u001b[37m\u001b[0m \u001b[1m4s\u001b[0m 4ms/step - accuracy: 0.7941 - loss: 1.6897 - val_accuracy: 0.8125 - val_loss: 1.3803\n",
            "Epoch 5/30\n",
            "\u001b[1m954/954\u001b[0m \u001b[32m━━━━━━━━━━━━━━━━━━━━\u001b[0m\u001b[37m\u001b[0m \u001b[1m4s\u001b[0m 3ms/step - accuracy: 0.8156 - loss: 1.3516 - val_accuracy: 0.8148 - val_loss: 1.1390\n",
            "Epoch 6/30\n",
            "\u001b[1m954/954\u001b[0m \u001b[32m━━━━━━━━━━━━━━━━━━━━\u001b[0m\u001b[37m\u001b[0m \u001b[1m3s\u001b[0m 3ms/step - accuracy: 0.8316 - loss: 1.0964 - val_accuracy: 0.8185 - val_loss: 0.9671\n",
            "Epoch 7/30\n",
            "\u001b[1m954/954\u001b[0m \u001b[32m━━━━━━━━━━━━━━━━━━━━\u001b[0m\u001b[37m\u001b[0m \u001b[1m3s\u001b[0m 3ms/step - accuracy: 0.8343 - loss: 0.9269 - val_accuracy: 0.8213 - val_loss: 0.8538\n",
            "Epoch 8/30\n",
            "\u001b[1m954/954\u001b[0m \u001b[32m━━━━━━━━━━━━━━━━━━━━\u001b[0m\u001b[37m\u001b[0m \u001b[1m5s\u001b[0m 3ms/step - accuracy: 0.8476 - loss: 0.7860 - val_accuracy: 0.8176 - val_loss: 0.7804\n",
            "Epoch 9/30\n",
            "\u001b[1m954/954\u001b[0m \u001b[32m━━━━━━━━━━━━━━━━━━━━\u001b[0m\u001b[37m\u001b[0m \u001b[1m5s\u001b[0m 3ms/step - accuracy: 0.8577 - loss: 0.6944 - val_accuracy: 0.8184 - val_loss: 0.7253\n",
            "Epoch 10/30\n",
            "\u001b[1m954/954\u001b[0m \u001b[32m━━━━━━━━━━━━━━━━━━━━\u001b[0m\u001b[37m\u001b[0m \u001b[1m5s\u001b[0m 3ms/step - accuracy: 0.8679 - loss: 0.6235 - val_accuracy: 0.8169 - val_loss: 0.6881\n",
            "Epoch 11/30\n",
            "\u001b[1m954/954\u001b[0m \u001b[32m━━━━━━━━━━━━━━━━━━━━\u001b[0m\u001b[37m\u001b[0m \u001b[1m3s\u001b[0m 3ms/step - accuracy: 0.8694 - loss: 0.5787 - val_accuracy: 0.8168 - val_loss: 0.6687\n",
            "Epoch 12/30\n",
            "\u001b[1m954/954\u001b[0m \u001b[32m━━━━━━━━━━━━━━━━━━━━\u001b[0m\u001b[37m\u001b[0m \u001b[1m6s\u001b[0m 4ms/step - accuracy: 0.8780 - loss: 0.5351 - val_accuracy: 0.8160 - val_loss: 0.6521\n",
            "Epoch 13/30\n",
            "\u001b[1m954/954\u001b[0m \u001b[32m━━━━━━━━━━━━━━━━━━━━\u001b[0m\u001b[37m\u001b[0m \u001b[1m4s\u001b[0m 3ms/step - accuracy: 0.8818 - loss: 0.5004 - val_accuracy: 0.8138 - val_loss: 0.6401\n",
            "Epoch 14/30\n",
            "\u001b[1m954/954\u001b[0m \u001b[32m━━━━━━━━━━━━━━━━━━━━\u001b[0m\u001b[37m\u001b[0m \u001b[1m5s\u001b[0m 3ms/step - accuracy: 0.8888 - loss: 0.4686 - val_accuracy: 0.8096 - val_loss: 0.6345\n",
            "Epoch 15/30\n",
            "\u001b[1m954/954\u001b[0m \u001b[32m━━━━━━━━━━━━━━━━━━━━\u001b[0m\u001b[37m\u001b[0m \u001b[1m4s\u001b[0m 4ms/step - accuracy: 0.8894 - loss: 0.4514 - val_accuracy: 0.8133 - val_loss: 0.6284\n",
            "Epoch 16/30\n",
            "\u001b[1m954/954\u001b[0m \u001b[32m━━━━━━━━━━━━━━━━━━━━\u001b[0m\u001b[37m\u001b[0m \u001b[1m4s\u001b[0m 3ms/step - accuracy: 0.8953 - loss: 0.4254 - val_accuracy: 0.8091 - val_loss: 0.6202\n",
            "Epoch 17/30\n",
            "\u001b[1m954/954\u001b[0m \u001b[32m━━━━━━━━━━━━━━━━━━━━\u001b[0m\u001b[37m\u001b[0m \u001b[1m3s\u001b[0m 3ms/step - accuracy: 0.8997 - loss: 0.4174 - val_accuracy: 0.8082 - val_loss: 0.6300\n",
            "Epoch 18/30\n",
            "\u001b[1m954/954\u001b[0m \u001b[32m━━━━━━━━━━━━━━━━━━━━\u001b[0m\u001b[37m\u001b[0m \u001b[1m6s\u001b[0m 4ms/step - accuracy: 0.8990 - loss: 0.4046 - val_accuracy: 0.8089 - val_loss: 0.6228\n",
            "Epoch 19/30\n",
            "\u001b[1m954/954\u001b[0m \u001b[32m━━━━━━━━━━━━━━━━━━━━\u001b[0m\u001b[37m\u001b[0m \u001b[1m3s\u001b[0m 3ms/step - accuracy: 0.9070 - loss: 0.3798 - val_accuracy: 0.8117 - val_loss: 0.6306\n",
            "Epoch 20/30\n",
            "\u001b[1m954/954\u001b[0m \u001b[32m━━━━━━━━━━━━━━━━━━━━\u001b[0m\u001b[37m\u001b[0m \u001b[1m5s\u001b[0m 3ms/step - accuracy: 0.9082 - loss: 0.3742 - val_accuracy: 0.8122 - val_loss: 0.6336\n",
            "Epoch 21/30\n",
            "\u001b[1m954/954\u001b[0m \u001b[32m━━━━━━━━━━━━━━━━━━━━\u001b[0m\u001b[37m\u001b[0m \u001b[1m4s\u001b[0m 4ms/step - accuracy: 0.9105 - loss: 0.3658 - val_accuracy: 0.8088 - val_loss: 0.6335\n"
          ]
        }
      ]
    },
    {
      "cell_type": "markdown",
      "source": [
        "## 10. Save Model & Preprocessors"
      ],
      "metadata": {
        "id": "C0Use4rkkEzi"
      }
    },
    {
      "cell_type": "code",
      "source": [
        "model.save(\"cyberbullying_model.h5\")\n",
        "joblib.dump(vectorizer, \"vectorizer.pkl\")\n",
        "joblib.dump(le, \"label_encoder.pkl\")"
      ],
      "metadata": {
        "id": "tW2S_SnmkKyp",
        "colab": {
          "base_uri": "https://localhost:8080/"
        },
        "outputId": "6df3c092-9b5d-4995-ae09-6018cef5e8f9"
      },
      "execution_count": 13,
      "outputs": [
        {
          "output_type": "stream",
          "name": "stderr",
          "text": [
            "WARNING:absl:You are saving your model as an HDF5 file via `model.save()` or `keras.saving.save_model(model)`. This file format is considered legacy. We recommend using instead the native Keras format, e.g. `model.save('my_model.keras')` or `keras.saving.save_model(model, 'my_model.keras')`. \n"
          ]
        },
        {
          "output_type": "execute_result",
          "data": {
            "text/plain": [
              "['label_encoder.pkl']"
            ]
          },
          "metadata": {},
          "execution_count": 13
        }
      ]
    },
    {
      "cell_type": "markdown",
      "source": [
        "## 11. Evaluate Model"
      ],
      "metadata": {
        "id": "9mcsJS0ekQTp"
      }
    },
    {
      "cell_type": "code",
      "source": [
        "loss, acc = model.evaluate(X_test, y_test)\n",
        "print(f\"\\n✅ Test Accuracy: {acc:.4f}\")"
      ],
      "metadata": {
        "id": "SlguR8PskWmo",
        "colab": {
          "base_uri": "https://localhost:8080/"
        },
        "outputId": "e6cfd12b-1727-4721-d5fb-1a138950c8e9"
      },
      "execution_count": 14,
      "outputs": [
        {
          "output_type": "stream",
          "name": "stdout",
          "text": [
            "\u001b[1m299/299\u001b[0m \u001b[32m━━━━━━━━━━━━━━━━━━━━\u001b[0m\u001b[37m\u001b[0m \u001b[1m1s\u001b[0m 4ms/step - accuracy: 0.8099 - loss: 0.6455\n",
            "\n",
            "✅ Test Accuracy: 0.8096\n"
          ]
        }
      ]
    },
    {
      "cell_type": "markdown",
      "source": [
        "## 12. Plot Accuracy"
      ],
      "metadata": {
        "id": "_XPnDot3kb79"
      }
    },
    {
      "cell_type": "code",
      "source": [
        "plt.plot(history.history['accuracy'], label='Train')\n",
        "plt.plot(history.history['val_accuracy'], label='Validation')\n",
        "plt.title(\"Model Accuracy\")\n",
        "plt.xlabel(\"Epoch\")\n",
        "plt.ylabel(\"Accuracy\")\n",
        "plt.legend()\n",
        "plt.grid()\n",
        "plt.show()"
      ],
      "metadata": {
        "id": "V-okaOoskiBD",
        "colab": {
          "base_uri": "https://localhost:8080/",
          "height": 472
        },
        "outputId": "b436b8b2-88a7-49e6-d845-35f9dec3098e"
      },
      "execution_count": 15,
      "outputs": [
        {
          "output_type": "display_data",
          "data": {
            "text/plain": [
              "<Figure size 640x480 with 1 Axes>"
            ],
            "image/png": "[encoded data removed]"
          },
          "metadata": {}
        }
      ]
    },
    {
      "cell_type": "markdown",
      "source": [
        "## 13.  Confusion Matrix & Report"
      ],
      "metadata": {
        "id": "hBgmrcS7koUY"
      }
    },
    {
      "cell_type": "code",
      "source": [
        "y_pred = model.predict(X_test)\n",
        "y_pred_classes = np.argmax(y_pred, axis=1)\n",
        "y_true = np.argmax(y_test, axis=1)\n",
        "\n",
        "cm = confusion_matrix(y_true, y_pred_classes)\n",
        "plt.figure(figsize=(8, 6))\n",
        "sns.heatmap(cm, annot=True, fmt='d', xticklabels=le.classes_, yticklabels=le.classes_, cmap='Blues')\n",
        "plt.title(\"Confusion Matrix\")\n",
        "plt.xlabel(\"Predicted\")\n",
        "plt.ylabel(\"Actual\")\n",
        "plt.show()\n",
        "\n",
        "print(\"\\n📊 Classification Report:\")\n",
        "print(classification_report(y_true, y_pred_classes, target_names=le.classes_))\n",
        "print(\"🎯 Precision:\", precision_score(y_true, y_pred_classes, average='weighted'))\n",
        "print(\"🎯 Recall:\", recall_score(y_true, y_pred_classes, average='weighted'))\n",
        "print(\"🎯 F1 Score:\", f1_score(y_true, y_pred_classes, average='weighted'))"
      ],
      "metadata": {
        "id": "Ov8a7VBhkuYj",
        "colab": {
          "base_uri": "https://localhost:8080/",
          "height": 1000
        },
        "outputId": "8a199d31-050c-4907-ba7e-1b821290fb1b"
      },
      "execution_count": 16,
      "outputs": [
        {
          "output_type": "stream",
          "name": "stdout",
          "text": [
            "\u001b[1m299/299\u001b[0m \u001b[32m━━━━━━━━━━━━━━━━━━━━\u001b[0m\u001b[37m\u001b[0m \u001b[1m1s\u001b[0m 2ms/step\n"
          ]
        },
        {
          "output_type": "display_data",
          "data": {
            "text/plain": [
              "<Figure size 800x600 with 2 Axes>"
            ],
            "image/png": "[encoded data removed]"
          },
          "metadata": {}
        },
        {
          "output_type": "stream",
          "name": "stdout",
          "text": [
            "\n",
            "📊 Classification Report:\n",
            "                     precision    recall  f1-score   support\n",
            "\n",
            "                age       0.97      0.97      0.97      1598\n",
            "          ethnicity       0.98      0.97      0.97      1592\n",
            "             gender       0.87      0.83      0.85      1595\n",
            "  not_cyberbullying       0.55      0.53      0.54      1589\n",
            "other_cyberbullying       0.56      0.61      0.58      1565\n",
            "           religion       0.95      0.94      0.95      1600\n",
            "\n",
            "           accuracy                           0.81      9539\n",
            "          macro avg       0.81      0.81      0.81      9539\n",
            "       weighted avg       0.81      0.81      0.81      9539\n",
            "\n",
            "🎯 Precision: 0.8128722458670538\n",
            "🎯 Recall: 0.8096236502778069\n",
            "🎯 F1 Score: 0.8109500348495929\n"
          ]
        }
      ]
    },
    {
      "cell_type": "markdown",
      "source": [
        "## 14. Live Prediction"
      ],
      "metadata": {
        "id": "gVg-HuWikz1L"
      }
    },
    {
      "cell_type": "code",
      "source": [
        "def predict_live(text):\n",
        "    cleaned = clean_text(text)\n",
        "    vect = vectorizer.transform([cleaned])\n",
        "    pred = model.predict(vect.toarray())\n",
        "    return le.inverse_transform([np.argmax(pred)])[0]"
      ],
      "metadata": {
        "id": "rKDVtwswk5Qi"
      },
      "execution_count": 17,
      "outputs": []
    },
    {
      "cell_type": "markdown",
      "source": [
        "## 15. Test in Loop"
      ],
      "metadata": {
        "id": "V7VEb-O5k9bm"
      }
    },
    {
      "cell_type": "code",
      "source": [
        "print(\"\\n🔍 LIVE PREDICTION (type 'exit' to stop):\")\n",
        "while True:\n",
        "    user_input = input(\"\\nEnter a tweet:\\n\")\n",
        "    if user_input.lower() == 'exit':\n",
        "        break\n",
        "    prediction = predict_live(user_input)\n",
        "    print(\"📌 Predicted Cyberbullying Type:\", prediction)"
      ],
      "metadata": {
        "colab": {
          "base_uri": "https://localhost:8080/"
        },
        "id": "vnMRRdtNonis",
        "outputId": "2bbabfe1-3965-4f1d-8472-3b6fe5f29559"
      },
      "execution_count": 19,
      "outputs": [
        {
          "name": "stdout",
          "output_type": "stream",
          "text": [
            "\n",
            "🔍 LIVE PREDICTION (type 'exit' to stop):\n",
            "\n",
            "Enter a tweet:\n",
            "bitch get up off me\n",
            "\u001b[1m1/1\u001b[0m \u001b[32m━━━━━━━━━━━━━━━━━━━━\u001b[0m\u001b[37m\u001b[0m \u001b[1m0s\u001b[0m 30ms/step\n",
            "📌 Predicted Cyberbullying Type: gender\n",
            "\n",
            "Enter a tweet:\n",
            "bitches get cut off everyday\n",
            "\u001b[1m1/1\u001b[0m \u001b[32m━━━━━━━━━━━━━━━━━━━━\u001b[0m\u001b[37m\u001b[0m \u001b[1m0s\u001b[0m 30ms/step\n",
            "📌 Predicted Cyberbullying Type: gender\n",
            "\n",
            "Enter a tweet:\n",
            "if you ant bout that Murder Game pussy nigga shut up\n",
            "\u001b[1m1/1\u001b[0m \u001b[32m━━━━━━━━━━━━━━━━━━━━\u001b[0m\u001b[37m\u001b[0m \u001b[1m0s\u001b[0m 31ms/step\n",
            "📌 Predicted Cyberbullying Type: ethnicity\n",
            "\n",
            "Enter a tweet:\n",
            "these hoes like niggas that spend money not talk bout it\n",
            "\u001b[1m1/1\u001b[0m \u001b[32m━━━━━━━━━━━━━━━━━━━━\u001b[0m\u001b[37m\u001b[0m \u001b[1m0s\u001b[0m 31ms/step\n",
            "📌 Predicted Cyberbullying Type: ethnicity\n",
            "\n",
            "Enter a tweet:\n",
            "quick piece of pussy call it a drive by\n",
            "\u001b[1m1/1\u001b[0m \u001b[32m━━━━━━━━━━━━━━━━━━━━\u001b[0m\u001b[37m\u001b[0m \u001b[1m0s\u001b[0m 29ms/step\n",
            "📌 Predicted Cyberbullying Type: other_cyberbullying\n",
            "\n",
            "Enter a tweet:\n",
            "running round here like some brand new pussy that's bout to get fucked\n",
            "\u001b[1m1/1\u001b[0m \u001b[32m━━━━━━━━━━━━━━━━━━━━\u001b[0m\u001b[37m\u001b[0m \u001b[1m0s\u001b[0m 46ms/step\n",
            "📌 Predicted Cyberbullying Type: other_cyberbullying\n",
            "\n",
            "Enter a tweet:\n",
            "I hate mint - I once kicked a classmate in the balls in grade school because he was being a bully\n",
            "\u001b[1m1/1\u001b[0m \u001b[32m━━━━━━━━━━━━━━━━━━━━\u001b[0m\u001b[37m\u001b[0m \u001b[1m0s\u001b[0m 32ms/step\n",
            "📌 Predicted Cyberbullying Type: age\n",
            "\n",
            "Enter a tweet:\n",
            "You won't want to go to grad school because the chem curriculum has destroyed the genuine interest u have\n",
            "\u001b[1m1/1\u001b[0m \u001b[32m━━━━━━━━━━━━━━━━━━━━\u001b[0m\u001b[37m\u001b[0m \u001b[1m0s\u001b[0m 30ms/step\n",
            "📌 Predicted Cyberbullying Type: age\n",
            "\n",
            "Enter a tweet:\n",
            "One school day, the teacher who had always tortured you to no limits called you to the office\n",
            "\u001b[1m1/1\u001b[0m \u001b[32m━━━━━━━━━━━━━━━━━━━━\u001b[0m\u001b[37m\u001b[0m \u001b[1m0s\u001b[0m 29ms/step\n",
            "📌 Predicted Cyberbullying Type: not_cyberbullying\n",
            "\n",
            "Enter a tweet:\n",
            "supposed to be in class doing my work\n",
            "\u001b[1m1/1\u001b[0m \u001b[32m━━━━━━━━━━━━━━━━━━━━\u001b[0m\u001b[37m\u001b[0m \u001b[1m0s\u001b[0m 28ms/step\n",
            "📌 Predicted Cyberbullying Type: not_cyberbullying\n",
            "\n",
            "Enter a tweet:\n",
            "exit\n"
          ]
        }
      ]
    }
  ]
}